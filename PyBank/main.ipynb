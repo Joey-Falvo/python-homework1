{
 "cells": [
  {
   "cell_type": "code",
   "execution_count": 29,
   "id": "c0892201-39ff-415f-a8ae-d5d88ff44d3d",
   "metadata": {},
   "outputs": [
    {
     "name": "stdout",
     "output_type": "stream",
     "text": [
      "Financial Analysis\n",
      "-------------------\n",
      "Total Months 86\n",
      "Total 38185793\n",
      "Average Change -2315.1176470588234\n",
      "Greatest Increase in Profits 1926159\n",
      "Greatest Increase In Loss -2196167\n"
     ]
    }
   ],
   "source": [
    "# Import the pathlib and csv library\n",
    "from pathlib import Path\n",
    "import csv\n",
    "\n",
    "# Set the file path\n",
    "csvpath = Path('budget_data.csv')\n",
    "\n",
    "# Initialize variable to hold pnl\n",
    "pnl_list = []\n",
    "\n",
    "#change in profit and lost\n",
    "pnl_change_list = []\n",
    "\n",
    "# Open the input path as a file object\n",
    "with open(csvpath, 'r') as csvfile:\n",
    "\n",
    "    # Pass in the csv file to the csv.reader() function\n",
    "    csvreader = csv.reader(csvfile, delimiter=',')\n",
    "\n",
    "    # Go to the next row from the start of the file\n",
    "    header = next(csvreader)\n",
    "    row1 = next(csvreader)\n",
    "    previous_pnl = int(row1[1])\n",
    "    \n",
    "     # Read each row of data after the header\n",
    "    for row in csvreader:\n",
    "        # Isolate and Profit and Loss\n",
    "        pnl = int(row[1])\n",
    "        # Append the Profit and Loss to List\n",
    "        pnl_list.append(pnl)\n",
    "        # Calculate change in Profit and Loss\n",
    "        change_pnl = pnl-previous_pnl\n",
    "        previous_pnl = pnl\n",
    "        # Append Change to List\n",
    "        pnl_change_list.append(change_pnl)\n",
    "\n",
    "        \n",
    "print(\"Financial Analysis\")\n",
    "print(\"-------------------\")\n",
    "print(f\"Total Months {len(pnl_list)+1}\")\n",
    "print(f\"Total {sum(pnl_list)+previous_pnl}\")\n",
    "print(f\"Average Change {sum(pnl_change_list)/len(pnl_change_list)}\")\n",
    "print(f\"Greatest Increase in Profits {max(pnl_change_list)}\")\n",
    "print(f\"Greatest Increase In Loss {min(pnl_change_list)}\")\n"
   ]
  },
  {
   "cell_type": "code",
   "execution_count": null,
   "id": "2ce20370-6e49-4546-b156-ec270011673f",
   "metadata": {},
   "outputs": [],
   "source": []
  }
 ],
 "metadata": {
  "kernelspec": {
   "display_name": "Python 3 (ipykernel)",
   "language": "python",
   "name": "python3"
  },
  "language_info": {
   "codemirror_mode": {
    "name": "ipython",
    "version": 3
   },
   "file_extension": ".py",
   "mimetype": "text/x-python",
   "name": "python",
   "nbconvert_exporter": "python",
   "pygments_lexer": "ipython3",
   "version": "3.9.13"
  }
 },
 "nbformat": 4,
 "nbformat_minor": 5
}
